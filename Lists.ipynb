{
 "cells": [
  {
   "cell_type": "code",
   "execution_count": 20,
   "metadata": {},
   "outputs": [
    {
     "name": "stdout",
     "output_type": "stream",
     "text": [
      "1 2 3 4 5 6 7 8 \n",
      "[4, 5, 6, 7]\n",
      "[1, 2, 3]\n",
      "[1, 2, 3]\n",
      "[1, 2, 3, 4, 5, 6, 7]\n"
     ]
    }
   ],
   "source": [
    "list=[1,2,3,4,5,6,7,8]## we take 0-n when printing we have\n",
    "for x in list:    ## to the 0-n+1 for print the all values\n",
    "    print(x,end=\" \")\n",
    "print();\n",
    "print(list[3:7])\n",
    "print(list[0:3])\n",
    "print(list[:3])\n",
    "print(list[:7])"
   ]
  },
  {
   "cell_type": "code",
   "execution_count": 14,
   "metadata": {},
   "outputs": [
    {
     "name": "stdout",
     "output_type": "stream",
     "text": [
      "1 2 3 4 5 6 7 8 \n",
      "[1, 2, 3, 4, 5, 6, 7]\n",
      "[1, 2, 3, 4, 5, 6, 7]\n",
      "[1, 2, 3, 4, 5, 6, 7, 8]\n"
     ]
    }
   ],
   "source": [
    "for x in list:\n",
    "    print(x,end=\" \")\n",
    "print()\n",
    "print(list[0:-1])\n",
    "print(list[0:7])\n",
    "print(list[0:8])\n"
   ]
  },
  {
   "cell_type": "code",
   "execution_count": 21,
   "metadata": {},
   "outputs": [
    {
     "name": "stdout",
     "output_type": "stream",
     "text": [
      "['venkat', 'vini', 'sasi', 'kumari', 'vineela']\n",
      "['venkat', 'vini', 15, 'kumari', 'vineela']\n",
      "['venkat', 'gitam', 15, 'kumari', 'vineela']\n"
     ]
    }
   ],
   "source": [
    "list=[\"venkat\",\"vini\",\"sasi\",\"kumari\",\"vineela\"]\n",
    "print(list)\n",
    " \n",
    "list[2]=15\n",
    "print(list);\n",
    "list[1]=\"gitam\";\n",
    "print(list)\n",
    "list1=[1,2,3,4]\n"
   ]
  },
  {
   "cell_type": "code",
   "execution_count": 22,
   "metadata": {},
   "outputs": [],
   "source": [
    "list=[\"venkat\",\"sasi\",[\"family,1\"],\"kumari\",\"[1,2,3,4]\"]"
   ]
  },
  {
   "cell_type": "code",
   "execution_count": 25,
   "metadata": {},
   "outputs": [
    {
     "data": {
      "text/plain": [
       "'[1,2,3,4]'"
      ]
     },
     "execution_count": 25,
     "metadata": {},
     "output_type": "execute_result"
    }
   ],
   "source": [
    "list[[-1][-1]]"
   ]
  },
  {
   "cell_type": "code",
   "execution_count": null,
   "metadata": {},
   "outputs": [],
   "source": []
  }
 ],
 "metadata": {
  "kernelspec": {
   "display_name": "Python 3",
   "language": "python",
   "name": "python3"
  },
  "language_info": {
   "codemirror_mode": {
    "name": "ipython",
    "version": 3
   },
   "file_extension": ".py",
   "mimetype": "text/x-python",
   "name": "python",
   "nbconvert_exporter": "python",
   "pygments_lexer": "ipython3",
   "version": "3.7.3"
  }
 },
 "nbformat": 4,
 "nbformat_minor": 2
}
