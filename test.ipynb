{
 "cells": [
  {
   "cell_type": "markdown",
   "metadata": {},
   "source": [
    "#### leap year"
   ]
  },
  {
   "cell_type": "code",
   "execution_count": 2,
   "metadata": {},
   "outputs": [
    {
     "name": "stdout",
     "output_type": "stream",
     "text": [
      "True\n",
      "False\n",
      "True\n",
      "True\n",
      "False\n",
      "True\n"
     ]
    }
   ],
   "source": [
    "def leapyear(n):\n",
    "    if(n%4==0 and n%100!=0 or n%400==0):\n",
    "        return True\n",
    "    else:\n",
    "        return False\n",
    "print(leapyear(2000))\n",
    "print(leapyear(1900))\n",
    "print(leapyear(2012))\n",
    "print(leapyear(2020))\n",
    "print(leapyear(200))\n",
    "print(leapyear(2020))                 "
   ]
  },
  {
   "cell_type": "markdown",
   "metadata": {},
   "source": [
    "#### def a fun to print the sequence of sprial background ele of given n* n matrix\n",
    "#### 1 2 3\n",
    "#### 4 5 6\n",
    "#### 7 8 9\n",
    "##### 123698745"
   ]
  },
  {
   "cell_type": "code",
   "execution_count": null,
   "metadata": {},
   "outputs": [],
   "source": [
    "def spiral(a):\n",
    "    a=[3][3]\n",
    "    n=len(a)\n",
    "    for i in range(1,len(a)):\n",
    "        for j in range(n-1,len(a)):\n",
    "            "
   ]
  }
 ],
 "metadata": {
  "kernelspec": {
   "display_name": "Python 3",
   "language": "python",
   "name": "python3"
  },
  "language_info": {
   "codemirror_mode": {
    "name": "ipython",
    "version": 3
   },
   "file_extension": ".py",
   "mimetype": "text/x-python",
   "name": "python",
   "nbconvert_exporter": "python",
   "pygments_lexer": "ipython3",
   "version": "3.7.3"
  }
 },
 "nbformat": 4,
 "nbformat_minor": 2
}
