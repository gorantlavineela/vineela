{
 "cells": [
  {
   "cell_type": "markdown",
   "metadata": {},
   "source": [
    "# Document Title\n",
    "## Date:10-06-2019\n",
    "## session Objectives\n",
    "* to introduce ***jupyter*** notebooks\n",
    "* to learn **pyhton** baiscs\n",
    "* to learn mark down\n",
    "  * Basic Syntax(variable, Assignment,Data Types)\n",
    "  * Control Structures(ul)\n",
    "    1. Conditional\n",
    "    * repetitive(ol)\n",
    " \n",
    " <img src=\"Python_logo.jpg\">\n",
    " \n",
    " [Link to website](https://sites.google.com/view/promizeit-python-vineela-june/worklog/day-4-07-06-2019)"
   ]
  },
  {
   "cell_type": "markdown",
   "metadata": {},
   "source": [
    "#### built in functions are all iterable "
   ]
  },
  {
   "cell_type": "code",
   "execution_count": 39,
   "metadata": {},
   "outputs": [
    {
     "name": "stdout",
     "output_type": "stream",
     "text": [
      "hello world\n",
      "hello world\n",
      "helloworld\n"
     ]
    }
   ],
   "source": [
    "print(\"hello world\") # single parameter\n",
    "print(\"hello\",\"world\")# Multiple parameter\n",
    "print(\"hello\"+\"world\")# concatation using \"+\""
   ]
  },
  {
   "cell_type": "code",
   "execution_count": 40,
   "metadata": {},
   "outputs": [
    {
     "name": "stdout",
     "output_type": "stream",
     "text": [
      "hello world\n",
      "hello world:helloworld\n"
     ]
    }
   ],
   "source": [
    "print(\"hello world\")\n",
    "print(\"hello\",\"world\",end=\":\")# end is for adding next line to present lne\n",
    "print(\"hello\"+\"world\")"
   ]
  },
  {
   "cell_type": "code",
   "execution_count": 41,
   "metadata": {},
   "outputs": [
    {
     "name": "stdout",
     "output_type": "stream",
     "text": [
      "enter a value1234\n",
      "1234\n"
     ]
    }
   ],
   "source": [
    "# This is a comment\n",
    "'''\n",
    "Multiple \n",
    "\n",
    "'''\n",
    "n = input(\"enter a value\")#taking the value and sotring it in n\n",
    "#print('\\n',n)\n",
    "print(n)"
   ]
  },
  {
   "cell_type": "code",
   "execution_count": 42,
   "metadata": {},
   "outputs": [
    {
     "data": {
      "text/plain": [
       "-1233329.9926888708"
      ]
     },
     "execution_count": 42,
     "metadata": {},
     "output_type": "execute_result"
    }
   ],
   "source": [
    "n=int(n) # Type conversion to intergerw and reassign\n",
    "n * n / 1231 - 1234567# Expression evalution using"
   ]
  },
  {
   "cell_type": "code",
   "execution_count": 43,
   "metadata": {},
   "outputs": [
    {
     "name": "stdout",
     "output_type": "stream",
     "text": [
      "1234 1234 \t 1234\n",
      "123 <class 'int'> 134 145\n"
     ]
    }
   ],
   "source": [
    "a=b=c=n# assigns a sing value to multiple+ values\n",
    "print(a,b,'\\t' ,c)\n",
    "a\n",
    "b\n",
    "c   #when give like this then it will excute the last line or last value\n",
    "d ,e ,f=123, 134, 145 # Assigning the 3 values at a time to 3 chataraters\n",
    "print(d,type(d),e,f)"
   ]
  },
  {
   "cell_type": "code",
   "execution_count": 44,
   "metadata": {},
   "outputs": [
    {
     "name": "stdout",
     "output_type": "stream",
     "text": [
      "1234 1234 \n",
      " 1234\n"
     ]
    }
   ],
   "source": [
    "a\n",
    "b\n",
    "print(a,b,'\\n', c)         # Ecah cell is indepented   and Also all cells are consider as one program"
   ]
  },
  {
   "cell_type": "code",
   "execution_count": 53,
   "metadata": {},
   "outputs": [
    {
     "data": {
      "text/plain": [
       "'3'"
      ]
     },
     "execution_count": 53,
     "metadata": {},
     "output_type": "execute_result"
    }
   ],
   "source": [
    "type (c)\n",
    "c=str(c)\n",
    "type(c)\n",
    "c[2]"
   ]
  },
  {
   "cell_type": "code",
   "execution_count": 56,
   "metadata": {
    "scrolled": true
   },
   "outputs": [
    {
     "name": "stdout",
     "output_type": "stream",
     "text": [
      "<class 'str'>\n",
      "<class 'str'>\n",
      "<class 'float'>\n"
     ]
    }
   ],
   "source": [
    "print(type(c))\n",
    "c=str(c)\n",
    "print(type(c))\n",
    "c=float(c)\n",
    "print(type(c))"
   ]
  },
  {
   "cell_type": "markdown",
   "metadata": {},
   "source": [
    "# String slicing"
   ]
  },
  {
   "cell_type": "code",
   "execution_count": 59,
   "metadata": {},
   "outputs": [
    {
     "data": {
      "text/plain": [
       "'n'"
      ]
     },
     "execution_count": 59,
     "metadata": {},
     "output_type": "execute_result"
    }
   ],
   "source": [
    "s1= 'pyhton programming'\n",
    "s1[len(s1)-1]\n",
    "s1[-2] # we can take driectly also and from last sting it will excutes"
   ]
  },
  {
   "cell_type": "code",
   "execution_count": 60,
   "metadata": {},
   "outputs": [
    {
     "data": {
      "text/plain": [
       "'pyhton'"
      ]
     },
     "execution_count": 60,
     "metadata": {},
     "output_type": "execute_result"
    }
   ],
   "source": [
    "s1[0:6]# Accessing the first 6 character # s1[:6] we can write like it also\n",
    "s[0] #accesssing the first charatcer"
   ]
  },
  {
   "cell_type": "code",
   "execution_count": 61,
   "metadata": {},
   "outputs": [
    {
     "data": {
      "text/plain": [
       "'g'"
      ]
     },
     "execution_count": 61,
     "metadata": {},
     "output_type": "execute_result"
    }
   ],
   "source": [
    "s1[-1]"
   ]
  },
  {
   "cell_type": "code",
   "execution_count": 64,
   "metadata": {},
   "outputs": [
    {
     "data": {
      "text/plain": [
       "'programming'"
      ]
     },
     "execution_count": 64,
     "metadata": {},
     "output_type": "execute_result"
    }
   ],
   "source": [
    "s1[7:] # accessing all character from 7th index to last  #it will take automatically\n",
    "s1[7:len(s1)]"
   ]
  },
  {
   "cell_type": "markdown",
   "metadata": {},
   "source": [
    "#### higer order computation"
   ]
  },
  {
   "cell_type": "markdown",
   "metadata": {},
   "source": [
    "### reverse of the string"
   ]
  },
  {
   "cell_type": "code",
   "execution_count": null,
   "metadata": {},
   "outputs": [],
   "source": [
    "num=987**987\n",
    "print(type(num))\n",
    "len(str(num))"
   ]
  },
  {
   "cell_type": "code",
   "execution_count": 65,
   "metadata": {},
   "outputs": [
    {
     "data": {
      "text/plain": [
       "'pyhton programming'"
      ]
     },
     "execution_count": 65,
     "metadata": {},
     "output_type": "execute_result"
    }
   ],
   "source": [
    "s1[::] #it will execute from starting"
   ]
  },
  {
   "cell_type": "code",
   "execution_count": 67,
   "metadata": {},
   "outputs": [
    {
     "data": {
      "text/plain": [
       "'gnimmargorp nothyp'"
      ]
     },
     "execution_count": 67,
     "metadata": {},
     "output_type": "execute_result"
    }
   ],
   "source": [
    "s1[::-1] # reverse of the string"
   ]
  },
  {
   "cell_type": "code",
   "execution_count": 70,
   "metadata": {},
   "outputs": [
    {
     "data": {
      "text/plain": [
       "'gnimmargorp'"
      ]
     },
     "execution_count": 70,
     "metadata": {},
     "output_type": "execute_result"
    }
   ],
   "source": [
    "s1[-1:6:-1]#dout  # reverse of the substring"
   ]
  },
  {
   "cell_type": "code",
   "execution_count": 71,
   "metadata": {},
   "outputs": [
    {
     "data": {
      "text/plain": [
       "'nothyp'"
      ]
     },
     "execution_count": 71,
     "metadata": {},
     "output_type": "execute_result"
    }
   ],
   "source": [
    "s1[5::-1]# wwe having give the array no to sting silicing"
   ]
  },
  {
   "cell_type": "code",
   "execution_count": 79,
   "metadata": {},
   "outputs": [
    {
     "data": {
      "text/plain": [
       "'987654'"
      ]
     },
     "execution_count": 79,
     "metadata": {},
     "output_type": "execute_result"
    }
   ],
   "source": [
    "s2= '123456789'\n",
    "s2[-1:2:-1] #revrese of the last len(s2)-3 characters"
   ]
  },
  {
   "cell_type": "code",
   "execution_count": 84,
   "metadata": {},
   "outputs": [
    {
     "data": {
      "text/plain": [
       "'654'"
      ]
     },
     "execution_count": 84,
     "metadata": {},
     "output_type": "execute_result"
    }
   ],
   "source": [
    "s2[5:2:-1] # reverese of characteres from index 5 to index 3"
   ]
  },
  {
   "cell_type": "code",
   "execution_count": 86,
   "metadata": {},
   "outputs": [
    {
     "data": {
      "text/plain": [
       "'13579'"
      ]
     },
     "execution_count": 86,
     "metadata": {},
     "output_type": "execute_result"
    }
   ],
   "source": [
    "s2[0::2]# accessing alternate chatacters"
   ]
  },
  {
   "cell_type": "code",
   "execution_count": 87,
   "metadata": {},
   "outputs": [
    {
     "data": {
      "text/plain": [
       "'gimropnty'"
      ]
     },
     "execution_count": 87,
     "metadata": {},
     "output_type": "execute_result"
    }
   ],
   "source": [
    "s1[-1::-2] # alternate chatacters in reverseb order"
   ]
  },
  {
   "cell_type": "markdown",
   "metadata": {},
   "source": [
    "## Function in python\n",
    "#### in python we have only fun def and fun colon(:) and it is having the fun call\n",
    "#### pyhton indentation is the   ' : '   when we will give indentation then it will show the errors\n"
   ]
  },
  {
   "cell_type": "code",
   "execution_count": 100,
   "metadata": {},
   "outputs": [
    {
     "data": {
      "text/plain": [
       "'gnimmargorp nothyp'"
      ]
     },
     "execution_count": 100,
     "metadata": {},
     "output_type": "execute_result"
    }
   ],
   "source": [
    "# fuction to reverse the string\n",
    "def reverseString(s):  # fun defination\n",
    "    return s[-1::-1]\n",
    "reverseString(\"vineela\")  # it is fun call \n",
    "reverseString(s1)"
   ]
  },
  {
   "cell_type": "code",
   "execution_count": 101,
   "metadata": {},
   "outputs": [
    {
     "data": {
      "text/plain": [
       "'pyhton programming'"
      ]
     },
     "execution_count": 101,
     "metadata": {},
     "output_type": "execute_result"
    }
   ],
   "source": [
    "s1"
   ]
  },
  {
   "cell_type": "code",
   "execution_count": 102,
   "metadata": {},
   "outputs": [
    {
     "data": {
      "text/plain": [
       "'gnimmargorp'"
      ]
     },
     "execution_count": 102,
     "metadata": {},
     "output_type": "execute_result"
    }
   ],
   "source": [
    "#function to reverse the sub\n",
    "def reversesub(s,i,j):\n",
    "    return s[j:i:-1] # s[j:]\n",
    "reversesub(s1,6,17)\n",
    "#reversesub(j:i-1:-1)"
   ]
  },
  {
   "cell_type": "code",
   "execution_count": 106,
   "metadata": {},
   "outputs": [
    {
     "data": {
      "text/plain": [
       "'cba'"
      ]
     },
     "execution_count": 106,
     "metadata": {},
     "output_type": "execute_result"
    }
   ],
   "source": [
    "def reversesub(s,i,j):\n",
    "    sub=s[i:j+1]\n",
    "#    return s[:i:-1] # s[j:]\n",
    "    return sub[::-1]\n",
    "reversesub('abcde',0,2)\n",
    "#reversesub(j:i-1:-1)"
   ]
  },
  {
   "cell_type": "markdown",
   "metadata": {},
   "source": [
    "#### Conditional Control Structure (Conditional statements)\n"
   ]
  },
  {
   "cell_type": "code",
   "execution_count": 111,
   "metadata": {},
   "outputs": [
    {
     "data": {
      "text/plain": [
       "True"
      ]
     },
     "execution_count": 111,
     "metadata": {},
     "output_type": "execute_result"
    }
   ],
   "source": [
    "# Function to test divisibility by 9 and 11 and not 10\n",
    "def divisibilitytest(n):\n",
    "    if(n % 9 == 0 and n % 11 == 0 and n % 10 !=0 ):  \n",
    "        return True\n",
    "    return False\n",
    "divisibilitytest(99)"
   ]
  },
  {
   "cell_type": "code",
   "execution_count": 115,
   "metadata": {},
   "outputs": [
    {
     "data": {
      "text/plain": [
       "True"
      ]
     },
     "execution_count": 115,
     "metadata": {},
     "output_type": "execute_result"
    }
   ],
   "source": [
    "# Function to test divisibility by 9 and 11 and not 10\n",
    "def divisibilitytest(n):\n",
    "    if n%9==0 and n%11==0 and n%10!=0:  \n",
    "        return True\n",
    "    else:\n",
    "        return False\n",
    "divisibilitytest(99)"
   ]
  },
  {
   "cell_type": "code",
   "execution_count": 118,
   "metadata": {},
   "outputs": [
    {
     "data": {
      "text/plain": [
       "8"
      ]
     },
     "execution_count": 118,
     "metadata": {},
     "output_type": "execute_result"
    }
   ],
   "source": [
    "# Recursive Function for a power n\n",
    "def powern(a,n):\n",
    "    if n==0 :\n",
    "        return 1\n",
    "    return a * powern(a,n-1)\n",
    "powern(2,3)"
   ]
  },
  {
   "cell_type": "code",
   "execution_count": null,
   "metadata": {},
   "outputs": [],
   "source": [
    "# Function to check if a given string is a Palindrome\n",
    "def ispalindrome(s):\n",
    "    if(s==s[::-1])\n",
    "       return True\n",
    "    return False\n",
    "ispalindrome('rec')"
   ]
  },
  {
   "cell_type": "markdown",
   "metadata": {},
   "source": [
    "#### iteration in pyhton"
   ]
  },
  {
   "cell_type": "code",
   "execution_count": 127,
   "metadata": {},
   "outputs": [
    {
     "name": "stdout",
     "output_type": "stream",
     "text": [
      "123\n",
      "124\n",
      "125\n"
     ]
    }
   ],
   "source": [
    "for i in range (123 , 126):\n",
    "      print(i)"
   ]
  },
  {
   "cell_type": "code",
   "execution_count": 130,
   "metadata": {},
   "outputs": [
    {
     "name": "stdout",
     "output_type": "stream",
     "text": [
      "7\n",
      "14\n",
      "21\n",
      "28\n",
      "35\n",
      "42\n",
      "49\n",
      "56\n",
      "63\n",
      "70\n"
     ]
    }
   ],
   "source": [
    "# Function to determine all numbers divisible by\n",
    "# 7 in a given range [1b, ub]\n",
    "def divisible7(lb, ub):\n",
    "    for i in range (lb, ub + 1):\n",
    "        if i % 7 == 0:\n",
    "            print(i)\n",
    "    return \n",
    "divisible7(1,70)"
   ]
  },
  {
   "cell_type": "code",
   "execution_count": null,
   "metadata": {},
   "outputs": [],
   "source": [
    "# function of n prime numbers\n",
    "def isfactor(dividend,divisor):\n",
    "    if dividend % divisor==0:\n",
    "        return True\n",
    "    return False\n",
    "    \n",
    "def primeno(s):\n",
    "    for i in range(2,n//2+1):\n",
    "        if isfactor(n,i):\n",
    "            return False\n",
    "        return True\n",
    "def genprimes(k):\n",
    "#    for i in range(2, k+1):\n",
    " #       if primeno(i):\n",
    "  #          print(i,end=' ')\n",
    "    #genprimes(100)\n",
    "    primecounter = 0\n",
    "    seqcounter =2\n",
    "    while primecounter < k:\n",
    "        if primeno(seqcounter):\n",
    "            print(seqcounter,end=' ')\n",
    "            primecounter +=1\n",
    "        seqcounter +=1\n",
    "#st=timeit.default_timer()\n",
    "genprimes(1000)\n",
    "#print(timeit.)"
   ]
  },
  {
   "cell_type": "markdown",
   "metadata": {},
   "source": [
    "#### Python LIsts"
   ]
  },
  {
   "cell_type": "code",
   "execution_count": null,
   "metadata": {},
   "outputs": [],
   "source": [
    "li=[1,2,3,4,5,6, 'python',5.6]\n",
    "li"
   ]
  },
  {
   "cell_type": "code",
   "execution_count": null,
   "metadata": {},
   "outputs": [],
   "source": []
  }
 ],
 "metadata": {
  "kernelspec": {
   "display_name": "Python 3",
   "language": "python",
   "name": "python3"
  },
  "language_info": {
   "codemirror_mode": {
    "name": "ipython",
    "version": 3
   },
   "file_extension": ".py",
   "mimetype": "text/x-python",
   "name": "python",
   "nbconvert_exporter": "python",
   "pygments_lexer": "ipython3",
   "version": "3.7.3"
  }
 },
 "nbformat": 4,
 "nbformat_minor": 2
}
