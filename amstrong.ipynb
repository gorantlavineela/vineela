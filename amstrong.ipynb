{
 "cells": [
  {
   "cell_type": "code",
   "execution_count": 1,
   "metadata": {},
   "outputs": [
    {
     "data": {
      "text/plain": [
       "'amstrong'"
      ]
     },
     "execution_count": 1,
     "metadata": {},
     "output_type": "execute_result"
    }
   ],
   "source": [
    "def amst(n):\n",
    "    sum=0\n",
    "    tem=n\n",
    "    while(tem>0):\n",
    "        num=tem%10\n",
    "        sum+=num**3\n",
    "        tem=tem//10\n",
    "    if(n==sum):\n",
    "        return(\"amstrong\")\n",
    "    else:\n",
    "        return(\"not amstrong\")\n",
    "amst(153)"
   ]
  },
  {
   "cell_type": "code",
   "execution_count": 12,
   "metadata": {},
   "outputs": [
    {
     "name": "stdout",
     "output_type": "stream",
     "text": [
      "enter no153\n",
      "3\n",
      "amstrong\n"
     ]
    }
   ],
   "source": [
    "v=int(input(\"enter no\"))\n",
    "def amst(n):\n",
    "    sum=0\n",
    "    tem=n\n",
    "    a=len(str(n))\n",
    "    print(a)\n",
    "    while(tem>0):\n",
    "        num=tem%10\n",
    "        sum+=num**a\n",
    "        tem//=10\n",
    "    if(n==sum):\n",
    "        print(\"amstrong\")\n",
    "    else:\n",
    "        print(\"not\")\n",
    "amst(v)\n"
   ]
  },
  {
   "cell_type": "code",
   "execution_count": null,
   "metadata": {},
   "outputs": [],
   "source": []
  }
 ],
 "metadata": {
  "kernelspec": {
   "display_name": "Python 3",
   "language": "python",
   "name": "python3"
  },
  "language_info": {
   "codemirror_mode": {
    "name": "ipython",
    "version": 3
   },
   "file_extension": ".py",
   "mimetype": "text/x-python",
   "name": "python",
   "nbconvert_exporter": "python",
   "pygments_lexer": "ipython3",
   "version": "3.7.3"
  }
 },
 "nbformat": 4,
 "nbformat_minor": 2
}
