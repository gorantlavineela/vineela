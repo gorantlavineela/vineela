{
 "cells": [
  {
   "cell_type": "code",
   "execution_count": 1,
   "metadata": {},
   "outputs": [],
   "source": [
    "a='string'"
   ]
  },
  {
   "cell_type": "code",
   "execution_count": 10,
   "metadata": {},
   "outputs": [
    {
     "data": {
      "text/plain": [
       "'gnirts'"
      ]
     },
     "execution_count": 10,
     "metadata": {},
     "output_type": "execute_result"
    }
   ],
   "source": [
    " a[::-1]"
   ]
  },
  {
   "cell_type": "code",
   "execution_count": 21,
   "metadata": {},
   "outputs": [],
   "source": [
    "a='ananda'"
   ]
  },
  {
   "cell_type": "code",
   "execution_count": 16,
   "metadata": {},
   "outputs": [
    {
     "data": {
      "text/plain": [
       "'kl'"
      ]
     },
     "execution_count": 16,
     "metadata": {},
     "output_type": "execute_result"
    }
   ],
   "source": [
    "a[::4]"
   ]
  },
  {
   "cell_type": "code",
   "execution_count": 30,
   "metadata": {},
   "outputs": [
    {
     "data": {
      "text/plain": [
       "'a'"
      ]
     },
     "execution_count": 30,
     "metadata": {},
     "output_type": "execute_result"
    }
   ],
   "source": [
    "def reverseString(b,i,j):\n",
    "    return b[j:i:1]\n",
    "reverseString(a,-3,-4)"
   ]
  },
  {
   "cell_type": "code",
   "execution_count": 33,
   "metadata": {},
   "outputs": [],
   "source": [
    "a='vini'"
   ]
  },
  {
   "cell_type": "code",
   "execution_count": 35,
   "metadata": {},
   "outputs": [
    {
     "data": {
      "text/plain": [
       "'iniv'"
      ]
     },
     "execution_count": 35,
     "metadata": {},
     "output_type": "execute_result"
    }
   ],
   "source": [
    "a[::-1]"
   ]
  },
  {
   "cell_type": "code",
   "execution_count": null,
   "metadata": {},
   "outputs": [],
   "source": [
    "def reversestring(b)"
   ]
  },
  {
   "cell_type": "code",
   "execution_count": 8,
   "metadata": {},
   "outputs": [
    {
     "name": "stdout",
     "output_type": "stream",
     "text": [
      "Enter The Number3\n",
      "The factorial of 3 is 6\n"
     ]
    }
   ],
   "source": [
    "#factorial using recursion\n",
    "\n",
    "def fact(n) :\n",
    "\n",
    "     if n==0:\n",
    "       \n",
    "        return 1 \n",
    "   \n",
    "     else :\n",
    "       \n",
    "        return n*fact(n-1)\n",
    "\n",
    "\n",
    "n=int(input(\"Enter The Number\"))\n",
    "\n",
    "result=fact(n)\n",
    "\n",
    "print(\"The factorial of\",n,\"is\",result)"
   ]
  },
  {
   "cell_type": "code",
   "execution_count": 21,
   "metadata": {},
   "outputs": [
    {
     "name": "stdout",
     "output_type": "stream",
     "text": [
      "Enter the Number4\n"
     ]
    },
    {
     "data": {
      "text/plain": [
       "3"
      ]
     },
     "execution_count": 21,
     "metadata": {},
     "output_type": "execute_result"
    }
   ],
   "source": [
    "#python programming for printing the fibonacci series upto nth term\n",
    "n=int(input(\"Enter the Number\"))\n",
    "def fibonacci(n):\n",
    "    if(n==0):\n",
    "        return 0\n",
    "    elif(n==1):\n",
    "        return 1\n",
    "    else:\n",
    "        return fibonacci(n-1)+fibonacci(n-2)\n",
    "\n",
    "def fibonacci(n):\n",
    "    if n==0:\n",
    "        return 0\n",
    "    if n==1:\n",
    "        return 1\n",
    "    else:\n",
    "        return fibonacci(n-1)+fibonacci(n-2)\n",
    "    \n",
    "#fibonacci(8)\n",
    "\n",
    "\n",
    "\n",
    "fibonacci(n)"
   ]
  },
  {
   "cell_type": "code",
   "execution_count": 7,
   "metadata": {},
   "outputs": [
    {
     "name": "stdout",
     "output_type": "stream",
     "text": [
      "1\n"
     ]
    }
   ],
   "source": [
    " # Function for nth Fibonacci number \n",
    "def Fibonacci(n): \n",
    "    if n<0: \n",
    "        print(\"Incorrect input\") \n",
    "    # First Fibonacci number is 0 \n",
    "    elif n==0: \n",
    "        return 0\n",
    "    # Second Fibonacci number is 1 \n",
    "    elif n==1: \n",
    "        return 1\n",
    "    else: \n",
    "        return Fibonacci(n-1)+Fibonacci(n-2) \n",
    "  \n",
    "# Driver Program \n",
    "  \n",
    "print(Fibonacci(2)) "
   ]
  },
  {
   "cell_type": "code",
   "execution_count": 10,
   "metadata": {},
   "outputs": [
    {
     "name": "stdout",
     "output_type": "stream",
     "text": [
      "2\n"
     ]
    }
   ],
   "source": [
    "\n",
    "# Fibonacci Series using Dynamic Programming  \n",
    "def fibonacci(n):  \n",
    "      \n",
    "    # Taking 1st two fibonacci nubers as 0 and 1  \n",
    "    FibArray = [0, 1]  \n",
    "      \n",
    "    while len(FibArray) < n + 1:  \n",
    "        FibArray.append(0)  \n",
    "      \n",
    "    if n <= 1:  \n",
    "        return n  \n",
    "    else:  \n",
    "        if FibArray[n - 1] == 0:  \n",
    "            FibArray[n - 1] = fibonacci(n - 1)  \n",
    "  \n",
    "        if FibArray[n - 2] == 0:  \n",
    "            FibArray[n - 2] = fibonacci(n - 2)  \n",
    "              \n",
    "    FibArray[n] = FibArray[n - 2] + FibArray[n - 1]  \n",
    "    return FibArray[n]  \n",
    "      \n",
    "print(fibonacci(3))"
   ]
  },
  {
   "cell_type": "code",
   "execution_count": null,
   "metadata": {},
   "outputs": [],
   "source": [
    "#to compute the gcd value using recursion \n",
    "\n",
    "def gcd(a,b):\n",
    "\n",
    "    if(b==0):\n",
    "\n",
    "        return a\n",
    "\n",
    "    else:\n",
    "\n",
    "        return gcd(b,a%b)\n",
    "\n",
    "\n",
    "\n",
    "\n",
    "num=int(input(\"Enter The Number\"))\n",
    "\n",
    "n=int(input(\"enter The Number\"))\n",
    "\n",
    "print(gcd(num,n))\n",
    "    "
   ]
  },
  {
   "cell_type": "code",
   "execution_count": null,
   "metadata": {},
   "outputs": [],
   "source": [
    "#power of the number using recursion python\n",
    "\n",
    "def power(a,b):\n",
    "\n",
    "    if b==1:\n",
    "       \n",
    "       return a\n",
    "    \n",
    "    return a*power(a,b-1)\n",
    "\n",
    "\n",
    "\n",
    "num=int(input(\"Enter The Number\"))\n",
    "\n",
    "n=int(input(\"Enter The power\"))\n",
    "\n",
    "print(\"\",power(num,n))\n",
    "    "
   ]
  }
 ],
 "metadata": {
  "kernelspec": {
   "display_name": "Python 3",
   "language": "python",
   "name": "python3"
  },
  "language_info": {
   "codemirror_mode": {
    "name": "ipython",
    "version": 3
   },
   "file_extension": ".py",
   "mimetype": "text/x-python",
   "name": "python",
   "nbconvert_exporter": "python",
   "pygments_lexer": "ipython3",
   "version": "3.7.3"
  }
 },
 "nbformat": 4,
 "nbformat_minor": 2
}
