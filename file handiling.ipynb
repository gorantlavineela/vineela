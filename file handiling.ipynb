{
 "cells": [
  {
   "cell_type": "code",
   "execution_count": 4,
   "metadata": {},
   "outputs": [
    {
     "data": {
      "text/plain": [
       "'i am learing the python class by promizeit.'"
      ]
     },
     "execution_count": 4,
     "metadata": {},
     "output_type": "execute_result"
    }
   ],
   "source": [
    "def readfile(filename):\n",
    "    f = open(filename, 'r') #r is for reading the file (readmode)\n",
    "    filedata = f.read()\n",
    "    return filedata\n",
    "    \n",
    "filename = 'pythonprogram/p1.txt' #datafile is the another folder we have create\n",
    "readfile(filename)\n"
   ]
  },
  {
   "cell_type": "code",
   "execution_count": null,
   "metadata": {},
   "outputs": [],
   "source": [
    "#or \n",
    "filedata = f.readlines() # readines is returns a list of lines in the files "
   ]
  },
  {
   "cell_type": "code",
   "execution_count": null,
   "metadata": {},
   "outputs": [],
   "source": [
    "import re\n",
    "def readfile(filename):\n",
    "    f=open(filename, )\n",
    "    #same as the above\n",
    "    #len(re.split('\\', readfile(filename)))\n",
    "    wordlist=re.split('\\', raedfile(filename))\n",
    "    wordlist\n",
    "    "
   ]
  },
  {
   "cell_type": "code",
   "execution_count": null,
   "metadata": {},
   "outputs": [],
   "source": []
  },
  {
   "cell_type": "code",
   "execution_count": 21,
   "metadata": {},
   "outputs": [
    {
     "data": {
      "text/plain": [
       "{'i': 1,\n",
       " 'am': 1,\n",
       " 'learing': 1,\n",
       " 'the': 1,\n",
       " 'python': 1,\n",
       " 'class': 1,\n",
       " 'by': 1,\n",
       " 'promizeit.': 1,\n",
       " 'is': 1,\n",
       " 'very': 1,\n",
       " 'nice.,and': 1,\n",
       " 'was': 1,\n",
       " 'talented.': 1}"
      ]
     },
     "execution_count": 21,
     "metadata": {},
     "output_type": "execute_result"
    }
   ],
   "source": [
    "#function to extract unique words in a text files\n",
    "\n",
    "import re\n",
    "def extractUniqueWords(filename):\n",
    "    filedata = readfile(filename)\n",
    "    wordlist = re.split('\\ ', filedata)\n",
    "    uniquewords = {}\n",
    "    for word in wordlist:\n",
    "        if word not in uniquewords.keys():\n",
    "            uniquewords[word] = 1\n",
    "    return uniquewords\n",
    "filename = 'pythonprogram/p1.txt'\n",
    "uniquewords=extractUniqueWords(filename)\n",
    "uniquewords"
   ]
  },
  {
   "cell_type": "code",
   "execution_count": 22,
   "metadata": {},
   "outputs": [
    {
     "data": {
      "text/plain": [
       "{'i': 6,\n",
       " 'am': 1,\n",
       " 'learing': 1,\n",
       " 'the': 1,\n",
       " 'python': 1,\n",
       " 'class': 2,\n",
       " 'by': 1,\n",
       " 'promizeit.': 1,\n",
       " 'is': 1,\n",
       " 'very': 1,\n",
       " 'nice.,and': 1,\n",
       " 'was': 1,\n",
       " 'talented.': 1}"
      ]
     },
     "execution_count": 22,
     "metadata": {},
     "output_type": "execute_result"
    }
   ],
   "source": [
    "#function to calculate the frequency of words for \n",
    "def frequencyTable(data, uniquedata):\n",
    "    for word in uniquedata.keys():\n",
    "        uniquedata[word] = len(re.findall(word,data))\n",
    "    return uniquedata\n",
    "filedata=readfile(filename)\n",
    "frequencyTable(filedata, uniquewords)"
   ]
  },
  {
   "cell_type": "code",
   "execution_count": null,
   "metadata": {},
   "outputs": [],
   "source": [
    "re.findall('p', 'python programming')"
   ]
  },
  {
   "cell_type": "code",
   "execution_count": null,
   "metadata": {},
   "outputs": [],
   "source": []
  }
 ],
 "metadata": {
  "kernelspec": {
   "display_name": "Python 3",
   "language": "python",
   "name": "python3"
  },
  "language_info": {
   "codemirror_mode": {
    "name": "ipython",
    "version": 3
   },
   "file_extension": ".py",
   "mimetype": "text/x-python",
   "name": "python",
   "nbconvert_exporter": "python",
   "pygments_lexer": "ipython3",
   "version": "3.7.3"
  }
 },
 "nbformat": 4,
 "nbformat_minor": 2
}
